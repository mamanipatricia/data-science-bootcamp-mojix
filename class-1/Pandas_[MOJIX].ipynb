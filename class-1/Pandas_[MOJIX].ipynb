{
  "nbformat": 4,
  "nbformat_minor": 0,
  "metadata": {
    "colab": {
      "name": "Pandas_[MOJIX].ipynb",
      "provenance": [],
      "collapsed_sections": [],
      "toc_visible": true
    },
    "kernelspec": {
      "name": "python3",
      "display_name": "Python 3"
    }
  },
  "cells": [
    {
      "cell_type": "code",
      "metadata": {
        "id": "SakPDYrQoC9e"
      },
      "source": [
        "import pandas as pd\n",
        "import numpy as np"
      ],
      "execution_count": null,
      "outputs": []
    },
    {
      "cell_type": "markdown",
      "metadata": {
        "id": "H-d9EAm-p7nK"
      },
      "source": [
        "## Dataframes"
      ]
    },
    {
      "cell_type": "code",
      "metadata": {
        "id": "kseieDN4oPdm"
      },
      "source": [
        "df = pd.read_csv(\"https://covid.ourworldindata.org/data/owid-covid-data.csv\")\n",
        "df.shape"
      ],
      "execution_count": null,
      "outputs": []
    },
    {
      "cell_type": "code",
      "metadata": {
        "id": "paBHdhzDoWcT"
      },
      "source": [
        "df.head(5)"
      ],
      "execution_count": null,
      "outputs": []
    },
    {
      "cell_type": "markdown",
      "metadata": {
        "id": "VGJvBP6op-8N"
      },
      "source": [
        "## Atributos de un dataframe"
      ]
    },
    {
      "cell_type": "code",
      "metadata": {
        "id": "JggY6-0boXuv"
      },
      "source": [
        "# Nombres de las columnas\n",
        "df.columns"
      ],
      "execution_count": null,
      "outputs": []
    },
    {
      "cell_type": "code",
      "metadata": {
        "id": "WO9vAv7CpH-W"
      },
      "source": [
        "df.columns.to_numpy()\n",
        "# list(df.columns)"
      ],
      "execution_count": null,
      "outputs": []
    },
    {
      "cell_type": "code",
      "metadata": {
        "id": "T8FGG0OMofOx"
      },
      "source": [
        "# Indexes de las filas\n",
        "df.index"
      ],
      "execution_count": null,
      "outputs": []
    },
    {
      "cell_type": "code",
      "metadata": {
        "id": "6e__d-ECoiK_"
      },
      "source": [
        "# datos\n",
        "df.to_numpy()\n"
      ],
      "execution_count": null,
      "outputs": []
    },
    {
      "cell_type": "markdown",
      "metadata": {
        "id": "oEX_3PP2qsb6"
      },
      "source": [
        "## Tipos de datos"
      ]
    },
    {
      "cell_type": "code",
      "metadata": {
        "id": "q3Vq4vboon4m"
      },
      "source": [
        "type(df.columns)"
      ],
      "execution_count": null,
      "outputs": []
    },
    {
      "cell_type": "code",
      "metadata": {
        "id": "EGZc5K_do5Yj"
      },
      "source": [
        "df.dtypes"
      ],
      "execution_count": null,
      "outputs": []
    },
    {
      "cell_type": "code",
      "metadata": {
        "id": "yysLfAWpqvyb"
      },
      "source": [
        "# Obtener la cantidad de columnas por tipo de dato\n",
        "\n",
        "df.dtypes.value_counts()"
      ],
      "execution_count": null,
      "outputs": []
    },
    {
      "cell_type": "code",
      "metadata": {
        "id": "9BGYBua6q6jA"
      },
      "source": [
        "# .info() muesta la información referente al tipo de dato además \n",
        "# de la cantidad de memoria que usa el dataset \n",
        "df.info()"
      ],
      "execution_count": null,
      "outputs": []
    },
    {
      "cell_type": "code",
      "metadata": {
        "id": "EOSx3KwVrDXA"
      },
      "source": [
        "pd.Series([\"Paul\", np.nan, \"George\"]).dtype"
      ],
      "execution_count": null,
      "outputs": []
    },
    {
      "cell_type": "code",
      "metadata": {
        "id": "umBEzSDFrUsH"
      },
      "source": [
        "df[\"total_cases\"].dtype"
      ],
      "execution_count": null,
      "outputs": []
    },
    {
      "cell_type": "markdown",
      "metadata": {
        "id": "FvBSyvhmthn8"
      },
      "source": [
        "## Conteos básicos"
      ]
    },
    {
      "cell_type": "code",
      "metadata": {
        "id": "KlpPQ-2WscTa"
      },
      "source": [
        "# Valores únicos de una columna\n",
        "\n",
        "df[\"continent\"].unique()"
      ],
      "execution_count": null,
      "outputs": []
    },
    {
      "cell_type": "code",
      "metadata": {
        "id": "pG6yi278swWz"
      },
      "source": [
        "# Conteo de valores únicos de una columna\n",
        "\n",
        "df[\"continent\"].value_counts()"
      ],
      "execution_count": null,
      "outputs": []
    },
    {
      "cell_type": "code",
      "metadata": {
        "id": "ZFnVnvd9szvW"
      },
      "source": [
        "#conteo de valores de una columns\n",
        "print(\"Conteo de valores de la columna continente\")\n",
        "print(df[\"continent\"].count()) #excluye a los missing values\n",
        "\n",
        "print(\"Número total de filas en el dataset\")\n",
        "print(len(df))"
      ],
      "execution_count": null,
      "outputs": []
    },
    {
      "cell_type": "markdown",
      "metadata": {
        "id": "kEAsGjhou8gi"
      },
      "source": [
        "## Estadística Básica"
      ]
    },
    {
      "cell_type": "code",
      "metadata": {
        "id": "zU_RkNuNvfjv"
      },
      "source": [
        "df_bolivia = df[df[\"location\"] ==\"Bolivia\"]\n",
        "print(df_bolivia.shape)\n",
        "df_bolivia"
      ],
      "execution_count": null,
      "outputs": []
    },
    {
      "cell_type": "code",
      "metadata": {
        "id": "9c1XPRkBtENP"
      },
      "source": [
        "df_bolivia[\"new_cases\"].min()"
      ],
      "execution_count": null,
      "outputs": []
    },
    {
      "cell_type": "code",
      "metadata": {
        "id": "EaOHO1LQvNj9"
      },
      "source": [
        "df_bolivia[\"new_cases\"].max()"
      ],
      "execution_count": null,
      "outputs": []
    },
    {
      "cell_type": "code",
      "metadata": {
        "id": "LXW6oTKyvQtP"
      },
      "source": [
        "df_bolivia[\"new_cases\"].mean()"
      ],
      "execution_count": null,
      "outputs": []
    },
    {
      "cell_type": "code",
      "metadata": {
        "id": "1WeFRAdyvVik"
      },
      "source": [
        "df_bolivia[\"new_cases\"].median()"
      ],
      "execution_count": null,
      "outputs": []
    },
    {
      "cell_type": "code",
      "metadata": {
        "id": "bcJpdjzTveKg"
      },
      "source": [
        "df_bolivia[\"new_cases\"].std()"
      ],
      "execution_count": null,
      "outputs": []
    },
    {
      "cell_type": "code",
      "metadata": {
        "id": "MU4GVYDPv8gp"
      },
      "source": [
        "df_bolivia[\"new_cases\"].describe()"
      ],
      "execution_count": null,
      "outputs": []
    },
    {
      "cell_type": "code",
      "metadata": {
        "id": "3eKvCLomDU7t"
      },
      "source": [
        "df_bolivia.describe()"
      ],
      "execution_count": null,
      "outputs": []
    },
    {
      "cell_type": "markdown",
      "metadata": {
        "id": "jhQO5eIcxHKm"
      },
      "source": [
        "## Missing values"
      ]
    },
    {
      "cell_type": "code",
      "metadata": {
        "id": "WIn1c8U8wNE3"
      },
      "source": [
        "df_bolivia[\"new_deaths\"].isna()"
      ],
      "execution_count": null,
      "outputs": []
    },
    {
      "cell_type": "code",
      "metadata": {
        "id": "HU1THJFVxcNo"
      },
      "source": [
        "df_bolivia[\"new_deaths\"]"
      ],
      "execution_count": null,
      "outputs": []
    },
    {
      "cell_type": "code",
      "metadata": {
        "id": "Dzd8EhcUwVgB"
      },
      "source": [
        "print(df_bolivia[\"new_deaths\"].count())  # Valores no nulos"
      ],
      "execution_count": null,
      "outputs": []
    },
    {
      "cell_type": "code",
      "metadata": {
        "id": "uRmClHLmw3ZF"
      },
      "source": [
        "print(df_bolivia[\"new_deaths\"].isna().sum()) "
      ],
      "execution_count": null,
      "outputs": []
    },
    {
      "cell_type": "code",
      "metadata": {
        "id": "fqkeDoHtw6rK"
      },
      "source": [
        "df_bolivia[\"new_deaths\"] = df_bolivia[\"new_deaths\"].fillna(0)"
      ],
      "execution_count": null,
      "outputs": []
    },
    {
      "cell_type": "code",
      "metadata": {
        "id": "YyWcwuW_xOWn"
      },
      "source": [
        "print(df_bolivia[\"new_deaths\"].count())  # Valores no nulos"
      ],
      "execution_count": null,
      "outputs": []
    },
    {
      "cell_type": "code",
      "metadata": {
        "id": "saWKVvDdxmV2"
      },
      "source": [
        "df_bolivia[\"new_deaths\"].dropna()"
      ],
      "execution_count": null,
      "outputs": []
    },
    {
      "cell_type": "code",
      "metadata": {
        "id": "lweFu9C0x9dh"
      },
      "source": [
        "# Volvemos a generar el dataset para tener los NaN\n",
        "df_bolivia = df[df[\"location\"] ==\"Bolivia\"]\n",
        "print(df_bolivia.shape)\n",
        "df_bolivia"
      ],
      "execution_count": null,
      "outputs": []
    },
    {
      "cell_type": "code",
      "metadata": {
        "id": "WwVwNnGoyRRr"
      },
      "source": [
        "# Para corroborar si tenemos o no valores nulos en una columna\n",
        "df_bolivia[\"new_cases\"].hasnans"
      ],
      "execution_count": null,
      "outputs": []
    },
    {
      "cell_type": "code",
      "metadata": {
        "id": "HVfvXGpnyXoF"
      },
      "source": [
        "# Para corroborar si tenemos o no valores nulos en una columna\n",
        "df_bolivia[\"new_deaths\"].hasnans"
      ],
      "execution_count": null,
      "outputs": []
    },
    {
      "cell_type": "code",
      "metadata": {
        "id": "5mnn-8Ldyexq"
      },
      "source": [
        "df_bolivia[\"new_deaths\"].notna()"
      ],
      "execution_count": null,
      "outputs": []
    },
    {
      "cell_type": "markdown",
      "metadata": {
        "id": "Pm3gIH-2zIxq"
      },
      "source": [
        "## Operaciones con columnas"
      ]
    },
    {
      "cell_type": "code",
      "metadata": {
        "id": "pR8Bb_cAzNN_"
      },
      "source": [
        "# creamos una nueva columna en el DataFrame\n",
        "df_bolivia[\"nueva_columna\"] = df_bolivia[\"new_cases\"]\n",
        "df_bolivia.head()"
      ],
      "execution_count": null,
      "outputs": []
    },
    {
      "cell_type": "code",
      "metadata": {
        "id": "6wl9l-_Vzc1I"
      },
      "source": [
        "df_bolivia[\"total_cases_day_before\"] = df_bolivia[\"total_cases\"] - df_bolivia[\"new_cases\"]\n",
        "df_bolivia"
      ],
      "execution_count": null,
      "outputs": []
    },
    {
      "cell_type": "code",
      "metadata": {
        "id": "k_iUVX1G0KdL"
      },
      "source": [
        "df_bolivia[\"casos_acumulados\"] = df_bolivia['new_cases'].cumsum()\n",
        "df_bolivia"
      ],
      "execution_count": null,
      "outputs": []
    },
    {
      "cell_type": "code",
      "metadata": {
        "id": "sWoebqJN11MY"
      },
      "source": [
        "df_bolivia[\"nueva_columna\"]  = df_bolivia[\"nueva_columna\"] - 1"
      ],
      "execution_count": null,
      "outputs": []
    },
    {
      "cell_type": "code",
      "metadata": {
        "id": "WQXahal60cy2"
      },
      "source": [
        "\n",
        "df_bolivia[['location', 'date', 'total_cases', 'new_cases', 'new_deaths', 'nueva_columna', 'total_cases_day_before', 'casos_acumulados']]"
      ],
      "execution_count": null,
      "outputs": []
    },
    {
      "cell_type": "markdown",
      "metadata": {
        "id": "iYiANBN2ywyD"
      },
      "source": [
        "## Seleccionando filas"
      ]
    },
    {
      "cell_type": "code",
      "metadata": {
        "id": "6rLysveQyhbJ"
      },
      "source": [
        "df_bolivia[\"new_deaths\"] > 100\n"
      ],
      "execution_count": null,
      "outputs": []
    },
    {
      "cell_type": "code",
      "metadata": {
        "id": "eMn9KGyDy4Fw"
      },
      "source": [
        "# Vamos a seleccionar/filtrar del dataset las filas que cumplen con la condición \n",
        "df_bolivia[df_bolivia[\"new_deaths\"] > 100]"
      ],
      "execution_count": null,
      "outputs": []
    },
    {
      "cell_type": "code",
      "metadata": {
        "id": "i5wuW90Qy9Zz"
      },
      "source": [
        "# Filtramos los dias donde no se registraron muertes\n",
        "df_bolivia[df_bolivia[\"new_deaths\"] == 0]"
      ],
      "execution_count": null,
      "outputs": []
    },
    {
      "cell_type": "markdown",
      "metadata": {
        "id": "iPu2BtvxBez_"
      },
      "source": [
        "## Group by\n",
        "\n",
        "max(), min(), mean(), first(), last() "
      ]
    },
    {
      "cell_type": "code",
      "metadata": {
        "id": "wmd3Kz-d2DIb"
      },
      "source": [
        "df.groupby(['continent','iso_code']).sum()"
      ],
      "execution_count": null,
      "outputs": []
    },
    {
      "cell_type": "code",
      "metadata": {
        "id": "Y4LfDZNXBwQK"
      },
      "source": [
        "df.groupby(['continent','iso_code']).first()"
      ],
      "execution_count": null,
      "outputs": []
    },
    {
      "cell_type": "code",
      "metadata": {
        "id": "RzsovJhICRki"
      },
      "source": [
        "df.groupby(['continent','iso_code']).agg({\"total_cases\": \"sum\", \"total_deaths\": \"sum\", \"date\": \"min\" })"
      ],
      "execution_count": null,
      "outputs": []
    },
    {
      "cell_type": "code",
      "metadata": {
        "id": "L3FdPEotCqnI"
      },
      "source": [
        "df[df[\"continent\"] == \"South America\"].groupby(['continent','iso_code']).agg({\"total_cases\": \"sum\", \"total_deaths\": \"sum\", \"date\": [\"min\", \"max\", 'count', \"nunique\"] })"
      ],
      "execution_count": null,
      "outputs": []
    },
    {
      "cell_type": "markdown",
      "metadata": {
        "id": "FWV-4CyIAs5S"
      },
      "source": [
        "**Tarea**\n",
        "\n",
        "Investiga los comandos \n",
        "\n",
        ".loc\n",
        "\n",
        ".iloc\n",
        "\n",
        ".ix\n",
        "\n",
        "pivot_table\n",
        "\n",
        "\n",
        "Aplícalos al dataframe del presente notebook.\n"
      ]
    },
    {
      "cell_type": "code",
      "metadata": {
        "id": "csTzYagODmOP"
      },
      "source": [
        ""
      ],
      "execution_count": null,
      "outputs": []
    }
  ]
}