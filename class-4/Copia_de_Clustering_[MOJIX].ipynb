{
  "nbformat": 4,
  "nbformat_minor": 0,
  "metadata": {
    "colab": {
      "name": "Copia de Clustering_[MOJIX].ipynb",
      "provenance": []
    },
    "kernelspec": {
      "name": "python3",
      "display_name": "Python 3"
    },
    "language_info": {
      "name": "python"
    }
  },
  "cells": [
    {
      "cell_type": "markdown",
      "metadata": {
        "id": "LqqyvzqRM-Rh"
      },
      "source": [
        "# Kmeans"
      ]
    },
    {
      "cell_type": "code",
      "metadata": {
        "id": "E_JRorz1M5R4"
      },
      "source": [
        "from sklearn import datasets\n",
        "import numpy as np"
      ],
      "execution_count": null,
      "outputs": []
    },
    {
      "cell_type": "code",
      "metadata": {
        "id": "v-LfkXqJNDoE"
      },
      "source": [
        "# Vamos a generar nuestro dataset\n",
        "# blobs, classes = datasets.make_blobs(1000, centers=3,cluster_std=1.75)\n",
        "# blobs, classes = datasets.make_blobs(n_samples=1000, centers=3, n_features=2,random_state=0)\n",
        "blobs, classes = datasets.make_blobs(500, centers=3)"
      ],
      "execution_count": null,
      "outputs": []
    },
    {
      "cell_type": "code",
      "metadata": {
        "id": "38AV05xbSQ0f"
      },
      "source": [
        "blobs"
      ],
      "execution_count": null,
      "outputs": []
    },
    {
      "cell_type": "code",
      "metadata": {
        "id": "RpthBje1ST5I"
      },
      "source": [
        "classes"
      ],
      "execution_count": null,
      "outputs": []
    },
    {
      "cell_type": "code",
      "metadata": {
        "id": "N2vkScUTNGvY"
      },
      "source": [
        "import matplotlib.pyplot as plt"
      ],
      "execution_count": null,
      "outputs": []
    },
    {
      "cell_type": "code",
      "metadata": {
        "id": "Hz5nkR4uNIxa"
      },
      "source": [
        "# Veamos nuestros datos\n",
        "f, ax = plt.subplots(figsize=(7.5, 7.5))\n",
        "ax.scatter(blobs[:, 0], blobs[:, 1])\n",
        "rgb = np.array(['r', 'g', 'b'])\n",
        "ax.set_title(\"Dataset\")"
      ],
      "execution_count": null,
      "outputs": []
    },
    {
      "cell_type": "code",
      "metadata": {
        "id": "j5FyjVUNNLw_"
      },
      "source": [
        "from sklearn.cluster import KMeans"
      ],
      "execution_count": null,
      "outputs": []
    },
    {
      "cell_type": "code",
      "metadata": {
        "id": "l4BpX9W5NN2_"
      },
      "source": [
        "# Definamos el modelo de Kmeans\n",
        "kmean = KMeans(n_clusters=3)"
      ],
      "execution_count": null,
      "outputs": []
    },
    {
      "cell_type": "code",
      "metadata": {
        "id": "mbj2LK1_NQMa"
      },
      "source": [
        "# Entrenemos el algoritmo\n",
        "kmean.fit(blobs)"
      ],
      "execution_count": null,
      "outputs": []
    },
    {
      "cell_type": "code",
      "metadata": {
        "id": "VDEtwxx5NS7m"
      },
      "source": [
        "# Los centroides\n",
        "kmean.cluster_centers_"
      ],
      "execution_count": null,
      "outputs": []
    },
    {
      "cell_type": "code",
      "metadata": {
        "id": "t4_Acxv8NUh8"
      },
      "source": [
        "# Cluster definition\n",
        "colors_plot = np.array(['red', 'green', 'blue', 'pink'])\n",
        "f, ax = plt.subplots(figsize=(7.5, 7.5))\n",
        "ax.scatter(blobs[:, 0], blobs[:, 1], color=colors_plot[classes]) #color=rgb[classes])\n",
        "ax.scatter(kmean.cluster_centers_[:, 0],\n",
        "           kmean.cluster_centers_[:, 1], marker='*', s=250,\n",
        "           color='black', label='Centers')\n",
        "ax.set_title(\"Blobs\")\n",
        "ax.legend(loc='best')"
      ],
      "execution_count": null,
      "outputs": []
    },
    {
      "cell_type": "code",
      "metadata": {
        "id": "dIP26OWHTPZB"
      },
      "source": [
        ""
      ],
      "execution_count": null,
      "outputs": []
    }
  ]
}