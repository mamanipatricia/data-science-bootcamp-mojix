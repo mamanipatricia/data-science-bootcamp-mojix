{
  "nbformat": 4,
  "nbformat_minor": 0,
  "metadata": {
    "colab": {
      "name": "Copia de Clustering2_[MOJIX].ipynb",
      "provenance": [],
      "collapsed_sections": []
    },
    "kernelspec": {
      "name": "python3",
      "display_name": "Python 3"
    },
    "language_info": {
      "name": "python"
    }
  },
  "cells": [
    {
      "cell_type": "markdown",
      "metadata": {
        "id": "LqqyvzqRM-Rh"
      },
      "source": [
        "# Kmeans"
      ]
    },
    {
      "cell_type": "code",
      "metadata": {
        "id": "E_JRorz1M5R4"
      },
      "source": [
        "from sklearn import datasets\n",
        "import numpy as np\n",
        "import matplotlib.pyplot as plt"
      ],
      "execution_count": null,
      "outputs": []
    },
    {
      "cell_type": "code",
      "metadata": {
        "id": "v-LfkXqJNDoE"
      },
      "source": [
        "# Vamos a generar nuestro dataset\n",
        "# blobs, classes = datasets.make_blobs(1000, centers=3,cluster_std=1.75)\n",
        "# blobs, classes = datasets.make_blobs(n_samples=1000, centers=3, n_features=2,random_state=0)\n",
        "X, Y = datasets.make_blobs(500, n_features = 2, centers=3, cluster_std=0.5, shuffle=True, random_state = 0)"
      ],
      "execution_count": null,
      "outputs": []
    },
    {
      "cell_type": "code",
      "metadata": {
        "id": "38AV05xbSQ0f"
      },
      "source": [
        "X"
      ],
      "execution_count": null,
      "outputs": []
    },
    {
      "cell_type": "code",
      "metadata": {
        "id": "N2vkScUTNGvY"
      },
      "source": [
        "Y"
      ],
      "execution_count": null,
      "outputs": []
    },
    {
      "cell_type": "code",
      "metadata": {
        "id": "Hz5nkR4uNIxa"
      },
      "source": [
        "# Veamos nuestros datos\n",
        "f, ax = plt.subplots(figsize=(7.5, 7.5))\n",
        "ax.scatter(X[:, 0], X[:, 1])\n",
        "ax.set_title(\"Dataset\")\n"
      ],
      "execution_count": null,
      "outputs": []
    },
    {
      "cell_type": "code",
      "metadata": {
        "id": "j5FyjVUNNLw_"
      },
      "source": [
        "from sklearn.cluster import KMeans"
      ],
      "execution_count": null,
      "outputs": []
    },
    {
      "cell_type": "code",
      "metadata": {
        "id": "l4BpX9W5NN2_"
      },
      "source": [
        "# Definamos el modelo de Kmeans\n",
        "k =3\n",
        "\n",
        "kmean = KMeans(n_clusters=k, n_init = 10, max_iter = 300, random_state=0)"
      ],
      "execution_count": null,
      "outputs": []
    },
    {
      "cell_type": "markdown",
      "metadata": {
        "id": "tSpzJDAP1lKD"
      },
      "source": [
        "**Tarea:** \n",
        "\n",
        "Revisa la documentación de KMeans e indica la funcionalidad de los parámetros: \n",
        "- n_init\n",
        "- max_iter "
      ]
    },
    {
      "cell_type": "code",
      "metadata": {
        "id": "mbj2LK1_NQMa"
      },
      "source": [
        "# Entrenemos el algoritmo\n",
        "y_kmean = kmean.fit_predict(X)"
      ],
      "execution_count": null,
      "outputs": []
    },
    {
      "cell_type": "code",
      "metadata": {
        "id": "VDEtwxx5NS7m"
      },
      "source": [
        "# Los centroides\n",
        "kmean.cluster_centers_"
      ],
      "execution_count": null,
      "outputs": []
    },
    {
      "cell_type": "code",
      "metadata": {
        "id": "t4_Acxv8NUh8"
      },
      "source": [
        "# Cluster definition\n",
        "colors_plot = np.array(['red', 'green', 'blue', 'pink'])\n",
        "f, ax = plt.subplots(figsize=(7.5, 7.5))\n",
        "ax.scatter(X[:, 0], X[:, 1], color=colors_plot[Y]) #color=rgb[classes])\n",
        "ax.scatter(kmean.cluster_centers_[:, 0],\n",
        "           kmean.cluster_centers_[:, 1], marker='*', s=250,\n",
        "           color='black', label='Centers')\n",
        "ax.set_title(\"Blobs\")\n",
        "ax.legend(loc='best')"
      ],
      "execution_count": null,
      "outputs": []
    },
    {
      "cell_type": "code",
      "metadata": {
        "id": "dIP26OWHTPZB"
      },
      "source": [
        "# within-cluster SSE (distortion) \n",
        "kmean.inertia_"
      ],
      "execution_count": null,
      "outputs": []
    },
    {
      "cell_type": "markdown",
      "metadata": {
        "id": "-kemHgxi8GUF"
      },
      "source": [
        "## Optimal K"
      ]
    },
    {
      "cell_type": "code",
      "metadata": {
        "id": "eUcfK85p6J_7"
      },
      "source": [
        "distortions = []\n",
        "\n",
        "k_max = 11\n",
        "for i in range(1, k_max):\n",
        "  kmean = KMeans(n_clusters=i, n_init = 10, max_iter = 300, random_state=0)               \n",
        "  kmean.fit(X)\n",
        "  distortions.append(kmean.inertia_)\n",
        "\n",
        "distortions"
      ],
      "execution_count": null,
      "outputs": []
    },
    {
      "cell_type": "code",
      "metadata": {
        "id": "12-G2ic063bR"
      },
      "source": [
        "plt.plot(range(1,k_max), distortions, marker='o')\n",
        "plt.xlabel('Number of clusters')\n",
        "plt.ylabel('Distortion')\n",
        "plt.show()"
      ],
      "execution_count": null,
      "outputs": []
    },
    {
      "cell_type": "code",
      "metadata": {
        "id": "5bnTYDnB7G-w"
      },
      "source": [
        "from sklearn.metrics import silhouette_samples\n",
        "from matplotlib import cm"
      ],
      "execution_count": null,
      "outputs": []
    },
    {
      "cell_type": "code",
      "metadata": {
        "id": "uHnm2ojv_mmJ"
      },
      "source": [
        "silhouette_vals = silhouette_samples(X, y_kmean, metric='euclidean')\n",
        "cluster_labels = np.unique(y_kmean)\n",
        "n_clusters = cluster_labels.shape[0]"
      ],
      "execution_count": null,
      "outputs": []
    },
    {
      "cell_type": "code",
      "metadata": {
        "id": "6fKdE1Ro_1vH"
      },
      "source": [
        "y_ax_lower, y_ax_upper = 0, 0\n",
        "yticks = []\n",
        "for i, c in enumerate(cluster_labels):\n",
        "  c_silhouette_vals = silhouette_vals[y_kmean == c]\n",
        "  c_silhouette_vals.sort()\n",
        "  y_ax_upper += len(c_silhouette_vals)\n",
        "  color = cm.jet(i / n_clusters)\n",
        "  plt.barh(range(y_ax_lower, y_ax_upper), c_silhouette_vals, height=1.0, edgecolor='none', color=color)\n",
        "  yticks.append((y_ax_lower + y_ax_upper) / 2)\n",
        "  y_ax_lower += len(c_silhouette_vals)\n",
        "\n",
        "silhouette_avg = np.mean(silhouette_vals)\n",
        "plt.axvline(silhouette_avg, color='red', linestyle=\"--\")\n",
        "plt.yticks(yticks, cluster_labels + 1)\n",
        "plt.ylabel('Cluster')\n",
        "plt.xlabel('Silhouette coefficient')\n",
        "plt.show()"
      ],
      "execution_count": null,
      "outputs": []
    },
    {
      "cell_type": "code",
      "metadata": {
        "id": "IV7-iQGRBuGT"
      },
      "source": [
        ""
      ],
      "execution_count": null,
      "outputs": []
    }
  ]
}