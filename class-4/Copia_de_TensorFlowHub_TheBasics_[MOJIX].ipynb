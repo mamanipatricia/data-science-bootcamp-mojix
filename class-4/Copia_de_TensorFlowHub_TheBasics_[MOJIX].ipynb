{
  "nbformat": 4,
  "nbformat_minor": 0,
  "metadata": {
    "colab": {
      "name": "Copia de TensorFlowHub_TheBasics_[MOJIX].ipynb",
      "provenance": [],
      "collapsed_sections": []
    },
    "kernelspec": {
      "name": "python3",
      "display_name": "Python 3"
    }
  },
  "cells": [
    {
      "cell_type": "markdown",
      "metadata": {
        "id": "kCGR6i8Fw_kC"
      },
      "source": [
        "# Tensorflow Hub Demo  - The Basics\n",
        "\n",
        "https://www.tensorflow.org/tutorials/images/transfer_learning_with_hub"
      ]
    },
    {
      "cell_type": "markdown",
      "metadata": {
        "id": "miwPsxmY-TQ_"
      },
      "source": [
        "## Importamos las librerías necesarias"
      ]
    },
    {
      "cell_type": "code",
      "metadata": {
        "id": "GtnwdvSpxH_P"
      },
      "source": [
        "import numpy as np\n",
        "import os\n",
        "\n",
        "# Librerías de manejo de imágenes\n",
        "import PIL.Image as Image\n",
        "import matplotlib.pylab as plt\n",
        "\n",
        "# Importamos TF y TFHUB (Deben estar instalados previamente)\n",
        "import tensorflow as tf\n",
        "import tensorflow_hub as hub\n",
        "\n",
        "# Vamos a definir la estructura/arquitectura del modelo con keras\n",
        "from tensorflow import keras\n",
        "from keras.models import Sequential\n",
        "\n",
        "# Cargamos los modelos en la version comprimida\n",
        "os.environ['TFHUB_MODEL_LOAD_FORMAT'] = 'COMPRESSED'"
      ],
      "execution_count": null,
      "outputs": []
    },
    {
      "cell_type": "markdown",
      "metadata": {
        "id": "TUoFqpbvyGNd"
      },
      "source": [
        "## Paso 1: Identifica y selecciona el modelo que quieres re-utilizar desde TensorFlow Hub.\n",
        "\n",
        "\n",
        "\n",
        "https://tfhub.dev/s?module-type=image-classification&q=tf2"
      ]
    },
    {
      "cell_type": "markdown",
      "metadata": {
        "id": "WPzYVl8vxVES"
      },
      "source": [
        "## Paso 2: Copia la url del modelo que escogiste. \n",
        "\n",
        "https://www.tensorflow.org/hub/hosting\n",
        "\n",
        "\n"
      ]
    },
    {
      "cell_type": "code",
      "metadata": {
        "id": "3u9J8_QhxamK"
      },
      "source": [
        "# Vamos a crear una variable con la url del modelo\n",
        "# https://tfhub.dev/<publisher>/<model_name>/<version>\n",
        "\n",
        "modelo_tfhub = \"https://tfhub.dev/google/imagenet/mobilenet_v2_100_224/classification/4\""
      ],
      "execution_count": null,
      "outputs": []
    },
    {
      "cell_type": "markdown",
      "metadata": {
        "id": "BOznnvyY-808"
      },
      "source": [
        "## Paso 3: Define la arquitectura de tu modelo\n",
        "\n",
        "Revisa la documentación del modelo que escogiste"
      ]
    },
    {
      "cell_type": "code",
      "metadata": {
        "id": "eIgCblS0zBy3"
      },
      "source": [
        "IMAGE_SHAPE = (224, 224)\n",
        "\n",
        "modelo = Sequential([\n",
        "    hub.KerasLayer(modelo_tfhub, input_shape=IMAGE_SHAPE+(3,))\n",
        "])"
      ],
      "execution_count": null,
      "outputs": []
    },
    {
      "cell_type": "markdown",
      "metadata": {
        "id": "x2eb29F42C3O"
      },
      "source": [
        "## Paso 4: Escoge una imagen para realizar las predicciones"
      ]
    },
    {
      "cell_type": "code",
      "metadata": {
        "id": "nuERg7MGz2OC"
      },
      "source": [
        "imagen_test_url = 'https://live.staticflickr.com/5449/7440792338_eb509ba9da_b.jpg'\n",
        "# \"https://boliviatravelsite.com/Images/Attractionphotos/illimani-02.jpg\"\n",
        "imagen_test_url"
      ],
      "execution_count": null,
      "outputs": []
    },
    {
      "cell_type": "markdown",
      "metadata": {
        "id": "uL3g6VQb2Vek"
      },
      "source": [
        "Vamos a descargar la imagen y vamos a ajustar sus dimensiones\n"
      ]
    },
    {
      "cell_type": "code",
      "metadata": {
        "id": "6r7Elzg_17Xe"
      },
      "source": [
        "imagen_test = tf.keras.utils.get_file(\"image\"+str(np.random.randint(100))+'.jpg',imagen_test_url,  )\n",
        "imagen_test = Image.open(imagen_test).resize(IMAGE_SHAPE)\n",
        "imagen_test"
      ],
      "execution_count": null,
      "outputs": []
    },
    {
      "cell_type": "markdown",
      "metadata": {
        "id": "2vG5QtXK2vCM"
      },
      "source": [
        "Vamos a ajustar los valores de la imagen"
      ]
    },
    {
      "cell_type": "code",
      "metadata": {
        "id": "gPDthtIH2PzZ"
      },
      "source": [
        "imagen_test = np.array(imagen_test)/255.0\n",
        "imagen_test.shape"
      ],
      "execution_count": null,
      "outputs": []
    },
    {
      "cell_type": "markdown",
      "metadata": {
        "id": "er_RTCe-5h94"
      },
      "source": [
        "##Paso 5: Realizamos predicciones\n",
        "\n",
        "Obtenemos la predicción bajo la estructura de las clases con las que ha sido entrenado el modelo\n",
        "\n",
        "https://tfhub.dev/google/imagenet/mobilenet_v2_130_224/classification/4\n"
      ]
    },
    {
      "cell_type": "code",
      "metadata": {
        "id": "7z7kK-cF25EB"
      },
      "source": [
        "prediccion = modelo.predict(imagen_test[np.newaxis, ...])\n",
        "prediccion.shape"
      ],
      "execution_count": null,
      "outputs": []
    },
    {
      "cell_type": "code",
      "metadata": {
        "id": "ZpmSj1Yo5Swr"
      },
      "source": [
        "prediccion"
      ],
      "execution_count": null,
      "outputs": []
    },
    {
      "cell_type": "code",
      "metadata": {
        "id": "LFgReaEv5ePZ"
      },
      "source": [
        "clase_prediccion = np.argmax(prediccion)\n",
        "clase_prediccion"
      ],
      "execution_count": null,
      "outputs": []
    },
    {
      "cell_type": "markdown",
      "metadata": {
        "id": "IcQKEZi46Icr"
      },
      "source": [
        "Descargamos las clases en formato de texto"
      ]
    },
    {
      "cell_type": "code",
      "metadata": {
        "id": "fJVGgKRt54sX"
      },
      "source": [
        "labels_path = tf.keras.utils.get_file('ImageNetLabels.txt','https://storage.googleapis.com/download.tensorflow.org/data/ImageNetLabels.txt')\n",
        "imagenet_labels = np.array(open(labels_path).read().splitlines())"
      ],
      "execution_count": null,
      "outputs": []
    },
    {
      "cell_type": "markdown",
      "metadata": {
        "id": "hyxY_kqL6YF9"
      },
      "source": [
        "Vamos a obtener el nombre de la clase de nuestra imagen"
      ]
    },
    {
      "cell_type": "code",
      "metadata": {
        "id": "Jx9rRt2Q6OP6"
      },
      "source": [
        "imagenet_labels[clase_prediccion]"
      ],
      "execution_count": null,
      "outputs": []
    }
  ]
}