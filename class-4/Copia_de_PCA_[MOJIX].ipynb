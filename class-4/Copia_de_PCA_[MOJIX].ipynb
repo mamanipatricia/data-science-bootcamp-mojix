{
  "nbformat": 4,
  "nbformat_minor": 0,
  "metadata": {
    "colab": {
      "name": "Copia de PCA_[MOJIX].ipynb",
      "provenance": [],
      "collapsed_sections": []
    },
    "kernelspec": {
      "name": "python3",
      "display_name": "Python 3"
    },
    "language_info": {
      "name": "python"
    }
  },
  "cells": [
    {
      "cell_type": "code",
      "metadata": {
        "id": "d4Y6ec4rEClH"
      },
      "source": [
        "import pandas as pd\n",
        "import numpy as np"
      ],
      "execution_count": null,
      "outputs": []
    },
    {
      "cell_type": "markdown",
      "metadata": {
        "id": "VplYs2UFD-0B"
      },
      "source": [
        "Data Source https://www.kaggle.com/uciml/pima-indians-diabetes-database"
      ]
    },
    {
      "cell_type": "code",
      "metadata": {
        "id": "xrOKn3fFEYSt"
      },
      "source": [
        "df = pd.read_csv(\"diabetes.csv\")\n",
        "print(df.shape)\n",
        "df.head()"
      ],
      "execution_count": null,
      "outputs": []
    },
    {
      "cell_type": "code",
      "metadata": {
        "id": "1002keBnFnB0"
      },
      "source": [
        "x_columns = np.array(df.columns[0:-1])\n",
        "print(x_columns)\n",
        "y_column = np.array(df.columns[-1])\n",
        "print(y_column)"
      ],
      "execution_count": null,
      "outputs": []
    },
    {
      "cell_type": "code",
      "metadata": {
        "id": "FItoZQdbFpNk"
      },
      "source": [
        "X = df[x_columns].to_numpy()\n",
        "X"
      ],
      "execution_count": null,
      "outputs": []
    },
    {
      "cell_type": "code",
      "metadata": {
        "id": "cBY2YyFtFq4O"
      },
      "source": [
        "Y = df[y_column].to_numpy()\n",
        "# Y"
      ],
      "execution_count": null,
      "outputs": []
    },
    {
      "cell_type": "code",
      "metadata": {
        "id": "FqkbqwPHEFgj"
      },
      "source": [
        "from sklearn.decomposition import PCA"
      ],
      "execution_count": null,
      "outputs": []
    },
    {
      "cell_type": "code",
      "metadata": {
        "id": "G_g38I5_FwSH"
      },
      "source": [
        "# feature extraction\n",
        "pca = PCA(n_components=3)"
      ],
      "execution_count": null,
      "outputs": []
    },
    {
      "cell_type": "code",
      "metadata": {
        "id": "brwlbmW2EhSw"
      },
      "source": [
        "\n",
        "fit = pca.fit(X)"
      ],
      "execution_count": null,
      "outputs": []
    },
    {
      "cell_type": "code",
      "metadata": {
        "id": "lkVlCthoF0Wg"
      },
      "source": [
        "# summarize components\n",
        "print(\"Explained Variance: %s\") \n",
        "fit.explained_variance_ratio_\n"
      ],
      "execution_count": null,
      "outputs": []
    },
    {
      "cell_type": "code",
      "metadata": {
        "id": "V8o0hCuZF5XN"
      },
      "source": [
        "print(fit.components_)\n",
        "# Principal axes in feature space, representing the directions of maximum variance in the data. The components are sorted by explained_variance_"
      ],
      "execution_count": null,
      "outputs": []
    },
    {
      "cell_type": "code",
      "metadata": {
        "id": "H7gxzGrAF-vW"
      },
      "source": [
        "sum(fit.explained_variance_ratio_)"
      ],
      "execution_count": null,
      "outputs": []
    },
    {
      "cell_type": "code",
      "metadata": {
        "id": "M3sI_yP8LBVL"
      },
      "source": [
        "new_X = pca.transform(X)"
      ],
      "execution_count": null,
      "outputs": []
    },
    {
      "cell_type": "code",
      "metadata": {
        "id": "Oxu-EutMLLwO"
      },
      "source": [
        "new_X"
      ],
      "execution_count": null,
      "outputs": []
    },
    {
      "cell_type": "markdown",
      "metadata": {
        "id": "HlgOrHxzJuAV"
      },
      "source": [
        "## Tarea\n",
        "\n",
        "1. Obten los 4 primeros componentes e indica el porcentaje de los datos que explican\n",
        "\n",
        "2. Normaliza los datos"
      ]
    },
    {
      "cell_type": "markdown",
      "metadata": {
        "id": "uF46ldC2h3zV"
      },
      "source": [
        "## Example 2 "
      ]
    },
    {
      "cell_type": "code",
      "metadata": {
        "id": "X8NzDVqiJtSW"
      },
      "source": [
        "# https://scikit-learn.org/stable/auto_examples/decomposition/plot_pca_iris.html"
      ],
      "execution_count": null,
      "outputs": []
    },
    {
      "cell_type": "code",
      "metadata": {
        "id": "bKevoHvpficA"
      },
      "source": [
        "# Code source: Gaël Varoquaux\n",
        "# License: BSD 3 clause\n",
        "\n",
        "import numpy as np\n",
        "import matplotlib.pyplot as plt\n",
        "from mpl_toolkits.mplot3d import Axes3D\n",
        "\n",
        "\n",
        "from sklearn import decomposition\n",
        "from sklearn import datasets\n",
        "\n",
        "np.random.seed(5)\n",
        "\n",
        "\n",
        "iris = datasets.load_iris()\n",
        "X = iris.data\n",
        "y = iris.target\n",
        "\n",
        "X"
      ],
      "execution_count": null,
      "outputs": []
    },
    {
      "cell_type": "code",
      "metadata": {
        "id": "aYUdkT4hfjB_"
      },
      "source": [
        "pca = decomposition.PCA(n_components=3)\n",
        "pca.fit(X)\n",
        "X = pca.transform(X)\n",
        "X"
      ],
      "execution_count": null,
      "outputs": []
    },
    {
      "cell_type": "code",
      "metadata": {
        "id": "5zITAI72gysj"
      },
      "source": [
        "\n",
        "fig = plt.figure(1, figsize=(4, 3))\n",
        "plt.clf()\n",
        "ax = Axes3D(fig, rect=[0, 0, .95, 1], elev=48, azim=134)\n",
        "\n",
        "\n",
        "# plt.cla()\n",
        "for name, label in [('Setosa', 0), ('Versicolour', 1), ('Virginica', 2)]:\n",
        "    ax.text3D(X[y == label, 0].mean(),\n",
        "              X[y == label, 1].mean() + 1.5,\n",
        "              X[y == label, 2].mean(), name,\n",
        "              horizontalalignment='center',\n",
        "              bbox=dict(alpha=.5, edgecolor='w', facecolor='w'))\n",
        "# Reorder the labels to have colors matching the cluster results\n",
        "y = np.choose(y, [1, 2, 0]).astype(float)\n",
        "ax.scatter(X[:, 0], X[:, 1], X[:, 2], c=y, cmap=plt.cm.nipy_spectral,\n",
        "           edgecolor='k')\n",
        "\n",
        "ax.w_xaxis.set_ticklabels([])\n",
        "ax.w_yaxis.set_ticklabels([])\n",
        "ax.w_zaxis.set_ticklabels([])\n",
        "\n",
        "plt.show()\n"
      ],
      "execution_count": null,
      "outputs": []
    }
  ]
}